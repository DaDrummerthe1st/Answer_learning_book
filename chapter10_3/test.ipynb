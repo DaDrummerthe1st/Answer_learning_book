{
 "cells": [
  {
   "cell_type": "code",
   "execution_count": 8,
   "metadata": {},
   "outputs": [
    {
     "name": "stdout",
     "output_type": "stream",
     "text": [
      "3\n",
      "My TypeError: can only concatenate str (not \"int\") to str\n",
      "None\n"
     ]
    },
    {
     "ename": "TypeError",
     "evalue": "add_two_numbers() missing 1 required positional argument: 'y'",
     "output_type": "error",
     "traceback": [
      "\u001b[0;31m---------------------------------------------------------------------------\u001b[0m",
      "\u001b[0;31mTypeError\u001b[0m                                 Traceback (most recent call last)",
      "Cell \u001b[0;32mIn[8], line 13\u001b[0m\n\u001b[1;32m     11\u001b[0m \u001b[38;5;28mprint\u001b[39m(add_two_numbers(\u001b[38;5;241m1\u001b[39m,\u001b[38;5;241m2\u001b[39m))\n\u001b[1;32m     12\u001b[0m \u001b[38;5;28mprint\u001b[39m(add_two_numbers(\u001b[38;5;124m\"\u001b[39m\u001b[38;5;124mtorsdag\u001b[39m\u001b[38;5;124m\"\u001b[39m, \u001b[38;5;241m4\u001b[39m))\n\u001b[0;32m---> 13\u001b[0m \u001b[38;5;28mprint\u001b[39m(\u001b[43madd_two_numbers\u001b[49m\u001b[43m(\u001b[49m\u001b[38;5;124;43m\"\u001b[39;49m\u001b[38;5;124;43mtorsdag\u001b[39;49m\u001b[38;5;124;43m\"\u001b[39;49m\u001b[43m \u001b[49m\u001b[43m)\u001b[49m)\n",
      "\u001b[0;31mTypeError\u001b[0m: add_two_numbers() missing 1 required positional argument: 'y'"
     ]
    }
   ],
   "source": [
    "def add_two_numbers(x: int,y: int) -> None:\n",
    "    try:\n",
    "        if (x != int or x != float) and (y != int or y != float):\n",
    "            return x + y\n",
    "    except TypeError as type_err:\n",
    "        print(\"TypeError: \" + str(type_err))\n",
    "        # TODO why is this not catching the second TypeError???\n",
    "\n",
    "print(add_two_numbers(1,2))\n",
    "print(add_two_numbers(\"torsdag\", 4))\n",
    "print(add_two_numbers(\"torsdag\" ))\n"
   ]
  }
 ],
 "metadata": {
  "kernelspec": {
   "display_name": ".venv",
   "language": "python",
   "name": "python3"
  },
  "language_info": {
   "codemirror_mode": {
    "name": "ipython",
    "version": 3
   },
   "file_extension": ".py",
   "mimetype": "text/x-python",
   "name": "python",
   "nbconvert_exporter": "python",
   "pygments_lexer": "ipython3",
   "version": "3.12.3"
  }
 },
 "nbformat": 4,
 "nbformat_minor": 2
}
