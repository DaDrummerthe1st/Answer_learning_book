{
 "cells": [
  {
   "cell_type": "markdown",
   "metadata": {},
   "source": [
    "# 1. Varför är det generellt sett en god idé att bygga upp tester för sin kod?\n",
    "För att den ska fungera som det är tänkt och för att förebygga märkliga fel längre fram"
   ]
  },
  {
   "cell_type": "code",
   "execution_count": 2,
   "metadata": {},
   "outputs": [],
   "source": [
    "import doctest"
   ]
  },
  {
   "cell_type": "code",
   "execution_count": 3,
   "metadata": {},
   "outputs": [],
   "source": [
    "def multiply_two_numbers(a, b):\n",
    "    \"\"\"Return the product of a and b.\n",
    "    >>> multiply_two_numbers(1, 2)\n",
    "    2\n",
    "    >>> multiply_two_numbers(5,10)\n",
    "    50\n",
    "    >>> multiply_two_numbers(8, 4)\n",
    "    32\n",
    "    \"\"\"\n",
    "    return a*b"
   ]
  },
  {
   "cell_type": "code",
   "execution_count": 4,
   "metadata": {},
   "outputs": [
    {
     "data": {
      "text/plain": [
       "TestResults(failed=0, attempted=3)"
      ]
     },
     "execution_count": 4,
     "metadata": {},
     "output_type": "execute_result"
    }
   ],
   "source": [
    "doctest.testmod()"
   ]
  },
  {
   "cell_type": "code",
   "execution_count": null,
   "metadata": {},
   "outputs": [],
   "source": [
    "# 3. Skriv någon kod eller använd någon kod som du\n",
    "# till exempel skrivit i tidigare kapitels uppgifter\n",
    "# och implementera några test. Använd doctest\n",
    "# och/eller pytest-modulen.\n",
    "print(\"Se uppgift Chapter8_4\")"
   ]
  }
 ],
 "metadata": {
  "kernelspec": {
   "display_name": ".venv",
   "language": "python",
   "name": "python3"
  },
  "language_info": {
   "codemirror_mode": {
    "name": "ipython",
    "version": 3
   },
   "file_extension": ".py",
   "mimetype": "text/x-python",
   "name": "python",
   "nbconvert_exporter": "python",
   "pygments_lexer": "ipython3",
   "version": "3.12.3"
  }
 },
 "nbformat": 4,
 "nbformat_minor": 2
}
